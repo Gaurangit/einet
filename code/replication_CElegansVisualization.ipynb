{
 "cells": [
  {
   "cell_type": "code",
   "execution_count": 1,
   "metadata": {
    "collapsed": true
   },
   "outputs": [],
   "source": [
    "import matplotlib.pyplot as plt\n",
    "import networkx as nx\n",
    "import numpy as np\n",
    "import json\n",
    "\n",
    "%matplotlib inline"
   ]
  },
  {
   "cell_type": "code",
   "execution_count": 2,
   "metadata": {
    "collapsed": true
   },
   "outputs": [],
   "source": [
    "fn = \"celeg-varshney-natpaperlayout.cyjs\"\n",
    "with open(fn, \"r\") as read_file:\n",
    "    data = json.load(read_file)"
   ]
  },
  {
   "cell_type": "code",
   "execution_count": 3,
   "metadata": {},
   "outputs": [],
   "source": [
    "# nodes\n",
    "node_data = data['elements']['nodes']\n",
    "\n",
    "positions = [(data['elements']['nodes'][i]['position']['x'], \n",
    "              -1*data['elements']['nodes'][i]['position']['y']) for i in range(len(node_data))]\n",
    "\n",
    "nodelist = [node_data[i]['data']['id'] for i in range(len(node_data))]\n",
    "\n",
    "node_function = dict(zip(nodelist, [node_data[i]['data']['Function'] for i in range(len(node_data))]))\n",
    "colors = [\"#ff802b\", \"#ff802b\", \"#008ded\", \"#d7dc00\", \"#008ded\", \"#d2349e\"]\n",
    "color_mapping = dict(zip(list(np.unique(list(node_function.values()))), colors))\n",
    "\n",
    "node_color = dict(zip(nodelist, [color_mapping[col] for col in node_function.values()]))"
   ]
  },
  {
   "cell_type": "code",
   "execution_count": 4,
   "metadata": {
    "collapsed": true
   },
   "outputs": [],
   "source": [
    "# edges\n",
    "edge_data = data['elements']['edges']\n",
    "interaction_types = [edge_data[i]['data']['interaction'] for i in range(len(edge_data))]\n",
    "edgelist = [(edge_data[i]['data']['source'], edge_data[i]['data']['target']) for i in range(len(edge_data))]"
   ]
  },
  {
   "cell_type": "code",
   "execution_count": 5,
   "metadata": {
    "collapsed": true
   },
   "outputs": [],
   "source": [
    "cel = nx.Graph()\n",
    "cel.add_nodes_from(nodelist)\n",
    "cel.add_edges_from(edgelist)\n",
    "cel0 = nx.convert_node_labels_to_integers(cel, first_label=0, ordering='default')"
   ]
  },
  {
   "cell_type": "code",
   "execution_count": null,
   "metadata": {},
   "outputs": [],
   "source": [
    "h = 9\n",
    "w = 16\n",
    "mult = 1.2\n",
    "paddin = 100\n",
    "ns = np.array(list(dict(cel0.degree()).values()))\n",
    "ns = ns/sum(ns)*70000\n",
    "ns = ns*mult\n",
    "plt.figure(figsize=(w*mult,h*mult))\n",
    "\n",
    "nx.draw_networkx_nodes(cel0, positions, node_color=list(node_color.values()), node_size=ns+paddin*mult,\n",
    "                       linewidths=0.5, alpha=0.98).set_edgecolor('w')\n",
    "nx.draw_networkx_nodes(cel0, positions, node_color='w', node_size=ns/2,#ns**.8,\n",
    "                       linewidths=1.0, alpha=0.98).set_edgecolor('w')\n",
    "nx.draw_networkx_edges(cel0, positions, edge_color=\"gainsboro\", width=2.0, alpha=0.7)\n",
    "nx.draw_networkx_edges(cel0, positions, edge_color=\"#666666\", width=0.5, arrowstyle=\"- >\", arrowsize=300, alpha=0.8)\n",
    "plt.axis('off')\n",
    "\n",
    "for i in color_mapping.keys():\n",
    "    plt.plot([-10000], [10000], color=color_mapping[i], marker='o', markersize=10, linestyle='', label=i)\n",
    "\n",
    "    \n",
    "plt.legend(fontsize=16*mult, columnspacing=0.0, handletextpad=-0.4, loc=3, framealpha=0.0, ncol=6, \n",
    "           bbox_to_anchor=(0.05*mult, -0.1))\n",
    "\n",
    "x, y = zip(*positions)\n",
    "plt.xlim(min(x)-100, max(x)+100)\n",
    "plt.ylim(min(y)-100, max(y)+100)\n",
    "plt.savefig(\"figs/celegens_test.png\", dpi=425, bbox_inches='tight')\n",
    "plt.savefig(\"figs/celegens_test.pdf\", dpi=425, bbox_inches='tight')\n",
    "plt.show()"
   ]
  },
  {
   "cell_type": "code",
   "execution_count": null,
   "metadata": {
    "collapsed": true
   },
   "outputs": [],
   "source": []
  }
 ],
 "metadata": {
  "kernelspec": {
   "display_name": "Python 3",
   "language": "python",
   "name": "python3"
  },
  "language_info": {
   "codemirror_mode": {
    "name": "ipython",
    "version": 3
   },
   "file_extension": ".py",
   "mimetype": "text/x-python",
   "name": "python",
   "nbconvert_exporter": "python",
   "pygments_lexer": "ipython3",
   "version": "3.6.3"
  }
 },
 "nbformat": 4,
 "nbformat_minor": 2
}
