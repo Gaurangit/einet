{
 "cells": [
  {
   "cell_type": "code",
   "execution_count": 1,
   "metadata": {},
   "outputs": [
    {
     "name": "stderr",
     "output_type": "stream",
     "text": [
      "/Users/brennan/anaconda3/lib/python3.7/importlib/_bootstrap.py:219: RuntimeWarning: numpy.dtype size changed, may indicate binary incompatibility. Expected 96, got 88\n",
      "  return f(*args, **kwds)\n"
     ]
    }
   ],
   "source": [
    "import matplotlib.pyplot as plt\n",
    "import networkx as nx\n",
    "import numpy as np\n",
    "from collections import defaultdict\n",
    "import argparse\n",
    "import ast\n",
    "import sys\n",
    "import gzip\n",
    "import csv\n",
    "import pprint\n",
    "import pandas as pd\n",
    "import neet.sensitivity as ns\n",
    "import neet.boolean as nn\n",
    "from neet.boolean.examples import c_elegans\n",
    "from itertools import groupby\n",
    "from mpl_toolkits.axes_grid1 import make_axes_locatable\n",
    "\n",
    "from scipy import stats\n",
    "import scipy as sp\n",
    "import community\n",
    "from scipy.spatial.distance import pdist, squareform\n",
    "from sklearn import datasets\n",
    "from matplotlib import patches\n",
    "\n",
    "from network_ei import *\n",
    "from causal_emergence import *\n",
    "from get_motifs import *\n",
    "\n",
    "import matplotlib.patches as mpatches\n",
    "from matplotlib import gridspec\n",
    "from matplotlib._png import read_png\n",
    "from matplotlib.offsetbox import AnnotationBbox, OffsetImage\n",
    "plt.rc('axes', axisbelow=True)\n",
    "%matplotlib inline"
   ]
  },
  {
   "cell_type": "code",
   "execution_count": null,
   "metadata": {},
   "outputs": [],
   "source": [
    "def new_Win(G, intervention_distribution=[], p0=0.0):\n",
    "    \"\"\"\n",
    "    Return a Win vector corresponding to the intervention into that system\n",
    "    \n",
    "    Params\n",
    "    ------\n",
    "    G (nx.Graph): a graph\n",
    "    intervention_distribution (np.ndarray): a vector with weights corresponding to \n",
    "                the intervention of random walkers into the system. if unspecified, \n",
    "                this is assumed to be a maximum entropy vector\n",
    "    p0 (float): small probability, defaulting to 0.0\n",
    "    \n",
    "    Returns\n",
    "    -------\n",
    "    Win (np.ndarray): a vector of length N corresponding to the percentage of random walkers\n",
    "                      on each node, following an intervention distribution\n",
    "    \"\"\"\n",
    "    \n",
    "    W_out = get_Wout_full(G, p0)\n",
    "    \n",
    "    \n",
    "    \n",
    "    return Win"
   ]
  },
  {
   "cell_type": "code",
   "execution_count": null,
   "metadata": {},
   "outputs": [],
   "source": [
    "    W_out = get_Wout(G, p0)\n",
    "    if sum(W_out.sum(axis=0))!=0.0:\n",
    "        return W_out.sum(axis=0)/sum(W_out.sum(axis=0))\n",
    "    else:\n",
    "        return np.zeros(len(W_out[0]))\n"
   ]
  },
  {
   "cell_type": "code",
   "execution_count": null,
   "metadata": {},
   "outputs": [],
   "source": [
    "get_Wout_full()"
   ]
  },
  {
   "cell_type": "code",
   "execution_count": null,
   "metadata": {},
   "outputs": [],
   "source": []
  },
  {
   "cell_type": "code",
   "execution_count": null,
   "metadata": {},
   "outputs": [],
   "source": []
  },
  {
   "cell_type": "code",
   "execution_count": null,
   "metadata": {},
   "outputs": [],
   "source": []
  },
  {
   "cell_type": "code",
   "execution_count": null,
   "metadata": {},
   "outputs": [],
   "source": []
  },
  {
   "cell_type": "code",
   "execution_count": null,
   "metadata": {},
   "outputs": [],
   "source": []
  },
  {
   "cell_type": "code",
   "execution_count": null,
   "metadata": {},
   "outputs": [],
   "source": []
  },
  {
   "cell_type": "code",
   "execution_count": null,
   "metadata": {},
   "outputs": [],
   "source": []
  },
  {
   "cell_type": "code",
   "execution_count": null,
   "metadata": {},
   "outputs": [],
   "source": []
  },
  {
   "cell_type": "code",
   "execution_count": null,
   "metadata": {},
   "outputs": [],
   "source": []
  },
  {
   "cell_type": "code",
   "execution_count": null,
   "metadata": {},
   "outputs": [],
   "source": []
  },
  {
   "cell_type": "code",
   "execution_count": null,
   "metadata": {},
   "outputs": [],
   "source": []
  },
  {
   "cell_type": "code",
   "execution_count": null,
   "metadata": {},
   "outputs": [],
   "source": []
  },
  {
   "cell_type": "code",
   "execution_count": null,
   "metadata": {},
   "outputs": [],
   "source": []
  },
  {
   "cell_type": "code",
   "execution_count": 6,
   "metadata": {},
   "outputs": [],
   "source": [
    "p0=0\n",
    "def get_determinism_analytic(G, p0=0):\n",
    "    \"\"\"\n",
    "    Calculates determinism from graph properties\n",
    "    \"\"\"\n",
    "    G = prepare_network(G,p0=p0)\n",
    "    N = G.number_of_nodes()\n",
    "    \n",
    "    return np.mean([np.log2(N/i) for i in list(dict(G.out_degree()).values()) if i>0])"
   ]
  },
  {
   "cell_type": "code",
   "execution_count": 7,
   "metadata": {},
   "outputs": [],
   "source": [
    "def get_ei_analytic(G, p0=0):\n",
    "    \"\"\"\n",
    "    \n",
    "    \"\"\"\n",
    "    \n",
    "    k_avg = np.mean(list(dict(G.degree()).values()))\n",
    "    k_std = np.std( list(dict(G.degree()).values()))\n",
    "    k_jin = np.mean(list(dict(nx.average_neighbor_degree(G)).values()))\n",
    "    \n",
    "    return ei"
   ]
  },
  {
   "cell_type": "code",
   "execution_count": 8,
   "metadata": {},
   "outputs": [
    {
     "name": "stdout",
     "output_type": "stream",
     "text": [
      "3.992 4.606944323518573 10.49404059483331\n"
     ]
    }
   ],
   "source": [
    "N = 1000\n",
    "m = 2\n",
    "# G = nx.erdos_renyi_graph(N,m/N)\n",
    "G = nx.barabasi_albert_graph(N,m)\n",
    "G = nx.DiGraph(G)\n",
    "\n",
    "k_avg = np.mean(list(dict(G.out_degree()).values()))\n",
    "k_std = np.std( list(dict(G.out_degree()).values()))\n",
    "k_jin = np.mean(list(dict(nx.average_neighbor_degree(G)).values()))\n",
    "print(k_avg, k_std, k_jin)"
   ]
  },
  {
   "cell_type": "code",
   "execution_count": 9,
   "metadata": {},
   "outputs": [
    {
     "data": {
      "text/plain": [
       "563.4022159975605"
      ]
     },
     "execution_count": 9,
     "metadata": {},
     "output_type": "execute_result"
    }
   ],
   "source": [
    "esp = -(get_degeneracy(G, p0)-np.log2(N))\n",
    "# -sp.stats.entropy(k_iin/W_ins, base=2)\n",
    "2**esp"
   ]
  },
  {
   "cell_type": "code",
   "execution_count": 13,
   "metadata": {},
   "outputs": [],
   "source": [
    "Wout = get_Wout_full(G, p0=0)\n",
    "Win = get_Win(G, p0=0)"
   ]
  },
  {
   "cell_type": "code",
   "execution_count": 14,
   "metadata": {},
   "outputs": [],
   "source": [
    "Hmax = np.array([1/N]*N)"
   ]
  },
  {
   "cell_type": "code",
   "execution_count": 36,
   "metadata": {},
   "outputs": [
    {
     "name": "stdout",
     "output_type": "stream",
     "text": [
      "4.830407873756551\n",
      "4.830407873756551\n"
     ]
    }
   ],
   "source": [
    "i = 0\n",
    "Q_joint_s_p = Wout[i] * Hmax\n",
    "P_joint_s_p = Win     * Hmax\n",
    "print(sp.stats.entropy(Q_joint_s_p, P_joint_s_p, base=2))\n",
    "print(get_ei_i(G,p0)[i])"
   ]
  },
  {
   "cell_type": "code",
   "execution_count": 41,
   "metadata": {},
   "outputs": [],
   "source": [
    "Win * Wout[i]"
   ]
  },
  {
   "cell_type": "code",
   "execution_count": 37,
   "metadata": {},
   "outputs": [],
   "source": [
    "P_o = \n",
    "P_o_and_s =  Wout[i]\n",
    "# P_s = Wout[i]\n",
    "# P_o_given_s = P_o_and_s / P_s"
   ]
  },
  {
   "cell_type": "code",
   "execution_count": null,
   "metadata": {},
   "outputs": [],
   "source": [
    "Wout[1]"
   ]
  },
  {
   "cell_type": "code",
   "execution_count": null,
   "metadata": {},
   "outputs": [],
   "source": [
    "# P_o = \n",
    "P_o_and_s =  Wout[i]\n",
    "P_s = Wout[i]\n",
    "# P_o_given_s = P_o_and_s / P_s\n",
    "accuracy = sum(np.log(P_o_given_s)) / N\n",
    "print(accuracy)"
   ]
  },
  {
   "cell_type": "code",
   "execution_count": null,
   "metadata": {},
   "outputs": [],
   "source": [
    "# P(A|B)\n",
    "pB = 0.3\n",
    "pAB=0.4\n",
    "\n",
    "pAifB = pAB / pB\n",
    "print(pAifB)"
   ]
  },
  {
   "cell_type": "code",
   "execution_count": 27,
   "metadata": {},
   "outputs": [
    {
     "name": "stdout",
     "output_type": "stream",
     "text": [
      "6.308434740393595e-17\n",
      "-1.372247572466599e-17\n",
      "-1.3263762766290693e-16\n",
      "1.0226897620276469e-16\n",
      "-2.06254324264556e-16\n",
      "-2.291574276393052e-17\n",
      "-5.153373165477079e-16\n",
      "-1.462641901092656e-16\n",
      "2.1939217691014331e-16\n",
      "-1.004793011011522e-16\n",
      "-5.277141479869467e-17\n",
      "2.89331435077008e-16\n",
      "2.3828526702629873e-16\n",
      "4.2752983809502516e-16\n",
      "2.425163212629777e-16\n",
      "-8.955267285393124e-17\n",
      "1.1765796358222173e-16\n",
      "1.638152707659332e-16\n"
     ]
    }
   ],
   "source": [
    "summ = 0\n",
    "for i in range(1,19):\n",
    "    x = sp.stats.entropy(get_Win(Wout**i), get_Win(Wout**(i+1)), base=2)\n",
    "    summ += x\n",
    "    print(x)"
   ]
  },
  {
   "cell_type": "code",
   "execution_count": 29,
   "metadata": {},
   "outputs": [
    {
     "data": {
      "text/plain": [
       "-0.6931471805599453"
      ]
     },
     "execution_count": 29,
     "metadata": {},
     "output_type": "execute_result"
    }
   ],
   "source": [
    "np.log(0.5)"
   ]
  },
  {
   "cell_type": "code",
   "execution_count": 33,
   "metadata": {},
   "outputs": [
    {
     "data": {
      "text/plain": [
       "(array([[957.,   0.,   0.,   0.,   0.,   0.,   0.,   0.,   0.,   4.],\n",
       "        [  0.,   0.,   0.,   0.,   0.,   0.,   0.,   0.,   0.,   0.],\n",
       "        [  0.,   0.,   0.,   0.,   0.,   0.,   0.,   0.,   0.,   0.],\n",
       "        [  0.,   0.,   0.,   0.,   0.,   0.,   0.,   0.,   0.,   0.],\n",
       "        [  0.,   0.,   0.,   0.,   0.,   0.,   0.,   0.,   0.,   0.],\n",
       "        [  0.,   0.,   0.,   0.,   0.,   0.,   0.,   0.,   0.,   0.],\n",
       "        [  0.,   0.,   0.,   0.,   0.,   0.,   0.,   0.,   0.,   0.],\n",
       "        [  0.,   0.,   0.,   0.,   0.,   0.,   0.,   0.,   0.,   0.],\n",
       "        [  0.,   0.,   0.,   0.,   0.,   0.,   0.,   0.,   0.,   0.],\n",
       "        [ 38.,   0.,   0.,   0.,   0.,   0.,   0.,   0.,   0.,   1.]]),\n",
       " array([0.        , 0.0025641 , 0.00512821, 0.00769231, 0.01025641,\n",
       "        0.01282051, 0.01538462, 0.01794872, 0.02051282, 0.02307692,\n",
       "        0.02564103]),\n",
       " array([0.  , 0.02, 0.04, 0.06, 0.08, 0.1 , 0.12, 0.14, 0.16, 0.18, 0.2 ]))"
      ]
     },
     "execution_count": 33,
     "metadata": {},
     "output_type": "execute_result"
    }
   ],
   "source": [
    "np.histogram2d(Wout[0], Wout[1])"
   ]
  },
  {
   "cell_type": "code",
   "execution_count": 22,
   "metadata": {},
   "outputs": [
    {
     "data": {
      "text/plain": [
       "6.4471797133218764"
      ]
     },
     "execution_count": 22,
     "metadata": {},
     "output_type": "execute_result"
    }
   ],
   "source": []
  },
  {
   "cell_type": "code",
   "execution_count": 168,
   "metadata": {},
   "outputs": [],
   "source": [
    "tpm = np.array([[0.0, 1/3, 1/3, 1/3, 0.0, 0.0], \n",
    "          [0.0, 0.0, 0.0, 0.0, 1.0, 0.0],\n",
    "          [0.0, 0.0, 0.0, 0.0, 0.9, 0.1],\n",
    "          [0.0, 0.0, 0.0, 0.0, 0.9, 0.1],\n",
    "          [0.0, 0.0, 0.0, 0.0, 1.0, 0.0],\n",
    "          [0.0, 0.0, 0.0, 0.0, 0.0, 1.0]])"
   ]
  },
  {
   "cell_type": "code",
   "execution_count": 169,
   "metadata": {},
   "outputs": [
    {
     "data": {
      "text/plain": [
       "array([[0.  , 0.33, 0.33, 0.33, 0.  , 0.  ],\n",
       "       [0.  , 0.  , 0.  , 0.  , 1.  , 0.  ],\n",
       "       [0.  , 0.  , 0.  , 0.  , 0.9 , 0.1 ],\n",
       "       [0.  , 0.  , 0.  , 0.  , 0.9 , 0.1 ],\n",
       "       [0.  , 0.  , 0.  , 0.  , 1.  , 0.  ],\n",
       "       [0.  , 0.  , 0.  , 0.  , 0.  , 1.  ]])"
      ]
     },
     "execution_count": 169,
     "metadata": {},
     "output_type": "execute_result"
    }
   ],
   "source": [
    "np.round(tpm,2)"
   ]
  },
  {
   "cell_type": "code",
   "execution_count": 170,
   "metadata": {},
   "outputs": [
    {
     "data": {
      "text/plain": [
       "array([[0.  , 0.  , 0.  , 0.  , 0.93, 0.07],\n",
       "       [0.  , 0.  , 0.  , 0.  , 1.  , 0.  ],\n",
       "       [0.  , 0.  , 0.  , 0.  , 0.9 , 0.1 ],\n",
       "       [0.  , 0.  , 0.  , 0.  , 0.9 , 0.1 ],\n",
       "       [0.  , 0.  , 0.  , 0.  , 1.  , 0.  ],\n",
       "       [0.  , 0.  , 0.  , 0.  , 0.  , 1.  ]])"
      ]
     },
     "execution_count": 170,
     "metadata": {},
     "output_type": "execute_result"
    }
   ],
   "source": [
    "np.round(tpm.dot(tpm),2)"
   ]
  },
  {
   "cell_type": "code",
   "execution_count": 189,
   "metadata": {},
   "outputs": [
    {
     "name": "stdout",
     "output_type": "stream",
     "text": [
      "Starting with this tpm:\n",
      " [[0.     0.3333 0.3333 0.3333 0.     0.    ]\n",
      " [0.     0.     0.     0.     1.     0.    ]\n",
      " [0.     0.     0.     0.     0.9    0.1   ]\n",
      " [0.     0.     0.     0.     0.9    0.1   ]\n",
      " [0.     0.     0.     0.     1.     0.    ]\n",
      " [0.     0.     0.     0.     0.     1.    ]]\n",
      "\n",
      "Search started... current_ei = 1.1562\n",
      "... 1 ... macro size = 6\n",
      "just found successful macro grouping... current_ei = 1.2632\n",
      "just found successful macro grouping... current_ei = 1.4271\n",
      "... 5 ... macro size = 4\n",
      "... 4 ... macro size = 4\n",
      "... 0 ... macro size = 4\n",
      "... 3 ... macro size = 4\n",
      "... 2 ... macro size = 4\n"
     ]
    }
   ],
   "source": [
    "Gm, mapp, G_orig = causal_emergence(tpm)"
   ]
  },
  {
   "cell_type": "code",
   "execution_count": 191,
   "metadata": {},
   "outputs": [
    {
     "data": {
      "text/plain": [
       "array([0.        , 0.48333333, 0.26666667, 0.25      ])"
      ]
     },
     "execution_count": 191,
     "metadata": {},
     "output_type": "execute_result"
    }
   ],
   "source": [
    "get_Win(Gm,0)"
   ]
  },
  {
   "cell_type": "code",
   "execution_count": 173,
   "metadata": {},
   "outputs": [
    {
     "data": {
      "text/plain": [
       "array([0.        , 0.05555556, 0.05555556, 0.05555556, 0.63333333,\n",
       "       0.2       ])"
      ]
     },
     "execution_count": 173,
     "metadata": {},
     "output_type": "execute_result"
    }
   ],
   "source": [
    "get_Win(tpm,0)"
   ]
  },
  {
   "cell_type": "code",
   "execution_count": 192,
   "metadata": {},
   "outputs": [],
   "source": [
    "# the benchmark function needs to have \n",
    "# 1. get and keep track of the Win of each of the first, say, three timesteps \n",
    "# 2. then those are the ones that are grouped together, \n",
    "# 3. group and then weight the elements together (intervention distributino)\n",
    "# 4. \n",
    "\n"
   ]
  },
  {
   "cell_type": "code",
   "execution_count": null,
   "metadata": {},
   "outputs": [],
   "source": [
    "# change Win function to admit an intervention distribution, defaulting to Hmax\n",
    "# from mapping object get an intervention distribution "
   ]
  },
  {
   "cell_type": "code",
   "execution_count": null,
   "metadata": {},
   "outputs": [],
   "source": []
  },
  {
   "cell_type": "code",
   "execution_count": 193,
   "metadata": {},
   "outputs": [
    {
     "data": {
      "text/plain": [
       "{0: 0, 1: 6, 2: 6, 3: 6, 4: 4, 5: 5}"
      ]
     },
     "execution_count": 193,
     "metadata": {},
     "output_type": "execute_result"
    }
   ],
   "source": [
    "mapp"
   ]
  },
  {
   "cell_type": "code",
   "execution_count": null,
   "metadata": {},
   "outputs": [],
   "source": []
  },
  {
   "cell_type": "code",
   "execution_count": null,
   "metadata": {},
   "outputs": [],
   "source": []
  },
  {
   "cell_type": "code",
   "execution_count": 108,
   "metadata": {},
   "outputs": [],
   "source": [
    "# tpm = np.array([[0.0, 0.5, 0.5, 0.0], \n",
    "#                 [0.0, 0.0, 0.5, 0.5],\n",
    "#                 [0.0, 0.0, 0.0, 1.0],\n",
    "#                 [0,0, 0.0, 0.0, 1.0]])\n",
    "tpm = np.array([[0,0.25,0.75,0], \n",
    "                [0,0,0.5,0.5],\n",
    "                [0,0,0,1],\n",
    "                [0,0,0,1]])\n"
   ]
  },
  {
   "cell_type": "code",
   "execution_count": 135,
   "metadata": {},
   "outputs": [
    {
     "data": {
      "text/plain": [
       "0.015625"
      ]
     },
     "execution_count": 135,
     "metadata": {},
     "output_type": "execute_result"
    }
   ],
   "source": [
    "1/64"
   ]
  },
  {
   "cell_type": "code",
   "execution_count": 139,
   "metadata": {},
   "outputs": [
    {
     "data": {
      "text/plain": [
       "array([[0.   , 1.   , 0.   ],\n",
       "       [0.   , 0.125, 0.875],\n",
       "       [0.   , 0.   , 1.   ]])"
      ]
     },
     "execution_count": 139,
     "metadata": {},
     "output_type": "execute_result"
    }
   ],
   "source": [
    "tpM"
   ]
  },
  {
   "cell_type": "code",
   "execution_count": 159,
   "metadata": {},
   "outputs": [
    {
     "data": {
      "text/plain": [
       "0.0004716534402459315"
      ]
     },
     "execution_count": 159,
     "metadata": {},
     "output_type": "execute_result"
    }
   ],
   "source": [
    "sp.stats.entropy(sum(tpM.dot(tpM))/3, np.array([0,1/24,23/24]), base=2)"
   ]
  },
  {
   "cell_type": "code",
   "execution_count": 160,
   "metadata": {},
   "outputs": [
    {
     "data": {
      "text/plain": [
       "array([[0.      , 0.125   , 0.875   ],\n",
       "       [0.      , 0.015625, 0.984375],\n",
       "       [0.      , 0.      , 1.      ]])"
      ]
     },
     "execution_count": 160,
     "metadata": {},
     "output_type": "execute_result"
    }
   ],
   "source": [
    "tpM2"
   ]
  },
  {
   "cell_type": "code",
   "execution_count": 111,
   "metadata": {},
   "outputs": [],
   "source": [
    "tpm2 = tpm.dot(tpm)"
   ]
  },
  {
   "cell_type": "code",
   "execution_count": 138,
   "metadata": {},
   "outputs": [],
   "source": [
    "tpM = np.array([[0,1,0], \n",
    "                [0,1/8,7/8],\n",
    "                [0,0,1]])"
   ]
  },
  {
   "cell_type": "code",
   "execution_count": 153,
   "metadata": {},
   "outputs": [],
   "source": [
    "tpM2 = tpM.dot(tpM)"
   ]
  },
  {
   "cell_type": "code",
   "execution_count": 154,
   "metadata": {},
   "outputs": [
    {
     "data": {
      "text/plain": [
       "array([[0.      , 0.125   , 0.875   ],\n",
       "       [0.      , 0.015625, 0.984375],\n",
       "       [0.      , 0.      , 1.      ]])"
      ]
     },
     "execution_count": 154,
     "metadata": {},
     "output_type": "execute_result"
    }
   ],
   "source": [
    "tpM2"
   ]
  },
  {
   "cell_type": "code",
   "execution_count": 155,
   "metadata": {},
   "outputs": [
    {
     "data": {
      "text/plain": [
       "0.015625"
      ]
     },
     "execution_count": 155,
     "metadata": {},
     "output_type": "execute_result"
    }
   ],
   "source": [
    "1/64"
   ]
  },
  {
   "cell_type": "code",
   "execution_count": null,
   "metadata": {},
   "outputs": [],
   "source": []
  },
  {
   "cell_type": "code",
   "execution_count": 122,
   "metadata": {},
   "outputs": [
    {
     "data": {
      "text/plain": [
       "array([[0.        , 0.015625  , 0.984375  ],\n",
       "       [0.        , 0.00195312, 0.99804688],\n",
       "       [0.        , 0.        , 1.        ]])"
      ]
     },
     "execution_count": 122,
     "metadata": {},
     "output_type": "execute_result"
    }
   ],
   "source": [
    "tpM2.dot(tpM)"
   ]
  },
  {
   "cell_type": "code",
   "execution_count": 125,
   "metadata": {},
   "outputs": [
    {
     "data": {
      "text/plain": [
       "0.001953125"
      ]
     },
     "execution_count": 125,
     "metadata": {},
     "output_type": "execute_result"
    }
   ],
   "source": [
    "1/512"
   ]
  },
  {
   "cell_type": "code",
   "execution_count": 117,
   "metadata": {},
   "outputs": [
    {
     "data": {
      "text/plain": [
       "0.015625"
      ]
     },
     "execution_count": 117,
     "metadata": {},
     "output_type": "execute_result"
    }
   ],
   "source": [
    "1/64"
   ]
  },
  {
   "cell_type": "code",
   "execution_count": 77,
   "metadata": {},
   "outputs": [],
   "source": [
    "tpM = np.array([[0,1,0],[0,.25,.75],[0,0,1]])"
   ]
  },
  {
   "cell_type": "code",
   "execution_count": 102,
   "metadata": {},
   "outputs": [],
   "source": [
    "xxx = tpM.dot(tpM)"
   ]
  },
  {
   "cell_type": "code",
   "execution_count": 107,
   "metadata": {},
   "outputs": [
    {
     "data": {
      "text/plain": [
       "array([[0.      , 0.0625  , 0.9375  ],\n",
       "       [0.      , 0.015625, 0.984375],\n",
       "       [0.      , 0.      , 1.      ]])"
      ]
     },
     "execution_count": 107,
     "metadata": {},
     "output_type": "execute_result"
    }
   ],
   "source": [
    "xxx.dot(tpM)"
   ]
  },
  {
   "cell_type": "code",
   "execution_count": 90,
   "metadata": {},
   "outputs": [
    {
     "data": {
      "text/plain": [
       "array([0.        , 0.10416667, 0.89583333])"
      ]
     },
     "execution_count": 90,
     "metadata": {},
     "output_type": "execute_result"
    }
   ],
   "source": [
    "sum(tpM.dot(tpM))/tpM.shape[0]"
   ]
  },
  {
   "cell_type": "code",
   "execution_count": 97,
   "metadata": {},
   "outputs": [
    {
     "data": {
      "text/plain": [
       "0.010416666666666666"
      ]
     },
     "execution_count": 97,
     "metadata": {},
     "output_type": "execute_result"
    }
   ],
   "source": [
    "1/6*1/16"
   ]
  },
  {
   "cell_type": "code",
   "execution_count": 100,
   "metadata": {},
   "outputs": [
    {
     "data": {
      "text/plain": [
       "0.0038221942754843893"
      ]
     },
     "execution_count": 100,
     "metadata": {},
     "output_type": "execute_result"
    }
   ],
   "source": [
    "sp.stats.entropy(np.array([0,5/48,43/48]), np.array([0,1/12,11/12]),base=2)"
   ]
  },
  {
   "cell_type": "code",
   "execution_count": 98,
   "metadata": {},
   "outputs": [
    {
     "data": {
      "text/plain": [
       "array([0.        , 0.08333333, 0.91666667])"
      ]
     },
     "execution_count": 98,
     "metadata": {},
     "output_type": "execute_result"
    }
   ],
   "source": []
  },
  {
   "cell_type": "code",
   "execution_count": 84,
   "metadata": {},
   "outputs": [],
   "source": [
    "wjM = sum(tpM)/tpM.shape[0]"
   ]
  },
  {
   "cell_type": "code",
   "execution_count": 85,
   "metadata": {},
   "outputs": [
    {
     "data": {
      "text/plain": [
       "array([0.        , 0.41666667, 0.58333333])"
      ]
     },
     "execution_count": 85,
     "metadata": {},
     "output_type": "execute_result"
    }
   ],
   "source": [
    "wjM"
   ]
  },
  {
   "cell_type": "code",
   "execution_count": null,
   "metadata": {},
   "outputs": [],
   "source": []
  },
  {
   "cell_type": "code",
   "execution_count": null,
   "metadata": {},
   "outputs": [],
   "source": []
  },
  {
   "cell_type": "code",
   "execution_count": null,
   "metadata": {},
   "outputs": [],
   "source": []
  },
  {
   "cell_type": "code",
   "execution_count": 75,
   "metadata": {},
   "outputs": [
    {
     "name": "stdout",
     "output_type": "stream",
     "text": [
      "[[0.  0.5 0.5 0. ]\n",
      " [0.  0.  0.5 0.5]\n",
      " [0.  0.  0.  1. ]\n",
      " [0.  0.  0.  1. ]]\n"
     ]
    }
   ],
   "source": [
    "print(np.array(tpm))"
   ]
  },
  {
   "cell_type": "code",
   "execution_count": 76,
   "metadata": {},
   "outputs": [
    {
     "name": "stdout",
     "output_type": "stream",
     "text": [
      "[[0.   0.   0.25 0.75]\n",
      " [0.   0.   0.   1.  ]\n",
      " [0.   0.   0.   1.  ]\n",
      " [0.   0.   0.   1.  ]]\n",
      "\n",
      "[[0. 0. 0. 1.]\n",
      " [0. 0. 0. 1.]\n",
      " [0. 0. 0. 1.]\n",
      " [0. 0. 0. 1.]]\n",
      "\n",
      "[[0. 0. 0. 1.]\n",
      " [0. 0. 0. 1.]\n",
      " [0. 0. 0. 1.]\n",
      " [0. 0. 0. 1.]]\n",
      "\n",
      "[[0. 0. 0. 1.]\n",
      " [0. 0. 0. 1.]\n",
      " [0. 0. 0. 1.]\n",
      " [0. 0. 0. 1.]]\n",
      "\n",
      "[[0. 0. 0. 1.]\n",
      " [0. 0. 0. 1.]\n",
      " [0. 0. 0. 1.]\n",
      " [0. 0. 0. 1.]]\n",
      "\n",
      "[[0. 0. 0. 1.]\n",
      " [0. 0. 0. 1.]\n",
      " [0. 0. 0. 1.]\n",
      " [0. 0. 0. 1.]]\n",
      "\n",
      "[[0. 0. 0. 1.]\n",
      " [0. 0. 0. 1.]\n",
      " [0. 0. 0. 1.]\n",
      " [0. 0. 0. 1.]]\n",
      "\n",
      "[[0. 0. 0. 1.]\n",
      " [0. 0. 0. 1.]\n",
      " [0. 0. 0. 1.]\n",
      " [0. 0. 0. 1.]]\n",
      "\n",
      "[[0. 0. 0. 1.]\n",
      " [0. 0. 0. 1.]\n",
      " [0. 0. 0. 1.]\n",
      " [0. 0. 0. 1.]]\n",
      "\n"
     ]
    }
   ],
   "source": [
    "x = tpm\n",
    "for i in range(1,10):\n",
    "    x = tpm.dot(x)\n",
    "    print(x)\n",
    "    print()"
   ]
  },
  {
   "cell_type": "code",
   "execution_count": null,
   "metadata": {},
   "outputs": [],
   "source": []
  },
  {
   "cell_type": "code",
   "execution_count": null,
   "metadata": {},
   "outputs": [],
   "source": []
  },
  {
   "cell_type": "code",
   "execution_count": null,
   "metadata": {},
   "outputs": [],
   "source": []
  },
  {
   "cell_type": "code",
   "execution_count": null,
   "metadata": {},
   "outputs": [],
   "source": []
  },
  {
   "cell_type": "code",
   "execution_count": null,
   "metadata": {},
   "outputs": [],
   "source": []
  },
  {
   "cell_type": "code",
   "execution_count": null,
   "metadata": {},
   "outputs": [],
   "source": []
  },
  {
   "cell_type": "code",
   "execution_count": null,
   "metadata": {},
   "outputs": [],
   "source": []
  },
  {
   "cell_type": "code",
   "execution_count": null,
   "metadata": {},
   "outputs": [],
   "source": []
  },
  {
   "cell_type": "code",
   "execution_count": null,
   "metadata": {},
   "outputs": [],
   "source": []
  },
  {
   "cell_type": "code",
   "execution_count": null,
   "metadata": {},
   "outputs": [],
   "source": []
  },
  {
   "cell_type": "code",
   "execution_count": null,
   "metadata": {},
   "outputs": [],
   "source": []
  },
  {
   "cell_type": "code",
   "execution_count": null,
   "metadata": {},
   "outputs": [],
   "source": []
  },
  {
   "cell_type": "code",
   "execution_count": null,
   "metadata": {},
   "outputs": [],
   "source": []
  },
  {
   "cell_type": "code",
   "execution_count": null,
   "metadata": {},
   "outputs": [],
   "source": []
  },
  {
   "cell_type": "code",
   "execution_count": null,
   "metadata": {},
   "outputs": [],
   "source": []
  },
  {
   "cell_type": "code",
   "execution_count": 525,
   "metadata": {},
   "outputs": [],
   "source": [
    "ba1_ana_deg = []\n",
    "ba1_cal_deg = []\n",
    "ba2_ana_deg = []\n",
    "ba2_cal_deg = []\n",
    "ba3_ana_deg = []\n",
    "ba3_cal_deg = []\n",
    "ba8_ana_deg = []\n",
    "ba8_cal_deg = []\n",
    "Ns = [100,500,1000]\n",
    "\n",
    "for N in Ns:\n",
    "    for i in range(100):\n",
    "        m = 1\n",
    "        G = nx.barabasi_albert_graph(N,m)\n",
    "        G = nx.DiGraph(G)\n",
    "        k_iin = np.array(list(dict(G.in_degree()).values()))\n",
    "        k_jin = 1/np.array(list(nx.average_neighbor_degree(G, source='in', target='out').values()))\n",
    "        www = k_iin*k_jin/sum(k_iin*k_jin)\n",
    "\n",
    "        ba1_ana_deg.append(np.log2(N)-sp.stats.entropy(www, base=2))\n",
    "        ba1_cal_deg.append(get_degeneracy(G,p0))\n",
    "\n",
    "        m = 2\n",
    "        G = nx.barabasi_albert_graph(N,m)\n",
    "        G = nx.DiGraph(G)\n",
    "        k_iin = np.array(list(dict(G.in_degree()).values()))\n",
    "        k_jin = 1/np.array(list(nx.average_neighbor_degree(G, source='in', target='out').values()))\n",
    "        www = k_iin*k_jin/sum(k_iin*k_jin)\n",
    "\n",
    "        ba2_ana_deg.append(np.log2(N)-sp.stats.entropy(www, base=2))\n",
    "        ba2_cal_deg.append(get_degeneracy(G,p0))\n",
    "\n",
    "        m = 3\n",
    "        G = nx.barabasi_albert_graph(N,m)\n",
    "        G = nx.DiGraph(G)\n",
    "        k_iin = np.array(list(dict(G.in_degree()).values()))\n",
    "        k_jin = 1/np.array(list(nx.average_neighbor_degree(G, source='in', target='out').values()))\n",
    "        www = k_iin*k_jin/sum(k_iin*k_jin)\n",
    "\n",
    "        ba3_ana_deg.append(np.log2(N)-sp.stats.entropy(www, base=2))\n",
    "        ba3_cal_deg.append(get_degeneracy(G,p0))\n",
    "        \n",
    "        m = 8\n",
    "        G = nx.barabasi_albert_graph(N,m)\n",
    "        G = nx.DiGraph(G)\n",
    "        k_iin = np.array(list(dict(G.in_degree()).values()))\n",
    "        k_jin = 1/np.array(list(nx.average_neighbor_degree(G, source='in', target='out').values()))\n",
    "        www = k_iin*k_jin/sum(k_iin*k_jin)\n",
    "\n",
    "        ba8_ana_deg.append(np.log2(N)-sp.stats.entropy(www, base=2))\n",
    "        ba8_cal_deg.append(get_degeneracy(G,p0))\n",
    "\n"
   ]
  },
  {
   "cell_type": "code",
   "execution_count": 601,
   "metadata": {},
   "outputs": [],
   "source": [
    "ff = np.array(nx.degree_histogram(G))[np.array(nx.degree_histogram(G))>0] * \\\n",
    "np.array(sorted(list(nx.k_nearest_neighbors(G, 'in','out').keys())))\n",
    "\n",
    "sort = sorted(list(nx.k_nearest_neighbors(G, 'in','out').keys()))\n",
    "print(ff * 1/np.array([nx.k_nearest_neighbors(G, 'in','out')[k] for k in sort]))\n",
    "print(np.log2(N) - np.log2(sum(ff * 1/np.array([nx.k_nearest_neighbors(G, 'in','out')[k] for k in sort]))))\n",
    "# np.array(sorted(list(nx.k_nearest_neighbors(G, 'in','out').keys())))"
   ]
  },
  {
   "cell_type": "code",
   "execution_count": 602,
   "metadata": {},
   "outputs": [
    {
     "data": {
      "text/plain": [
       "0.8602297927772398"
      ]
     },
     "execution_count": 602,
     "metadata": {},
     "output_type": "execute_result"
    }
   ],
   "source": []
  },
  {
   "cell_type": "code",
   "execution_count": 600,
   "metadata": {},
   "outputs": [
    {
     "data": {
      "text/plain": [
       "0.4283223261575593"
      ]
     },
     "execution_count": 600,
     "metadata": {},
     "output_type": "execute_result"
    }
   ],
   "source": [
    "np.log2(N)-sp.stats.entropy(get_Win(G,p0), base=2)"
   ]
  },
  {
   "cell_type": "code",
   "execution_count": null,
   "metadata": {},
   "outputs": [],
   "source": []
  },
  {
   "cell_type": "code",
   "execution_count": null,
   "metadata": {},
   "outputs": [],
   "source": [
    "k_iin*k_jin/sum(k_iin*k_jin)"
   ]
  },
  {
   "cell_type": "code",
   "execution_count": 530,
   "metadata": {},
   "outputs": [
    {
     "data": {
      "image/png": "[encoded data removed]",
      "text/plain": [
       "<Figure size 720x720 with 1 Axes>"
      ]
     },
     "metadata": {
      "needs_background": "light"
     },
     "output_type": "display_data"
    }
   ],
   "source": [
    "plt.figure(figsize=(10,10))\n",
    "plt.plot(ba1_ana_deg, ba1_cal_deg, marker='.', linestyle='', label='m=1')\n",
    "plt.plot(ba2_ana_deg, ba2_cal_deg, marker='.', linestyle='', label='m=2')\n",
    "plt.plot(ba3_ana_deg, ba3_cal_deg, marker='.', linestyle='', label='m=3')\n",
    "plt.plot(ba8_ana_deg, ba8_cal_deg, marker='.', linestyle='', label='m=8')\n",
    "plt.plot([0,5],[0,5],linestyle='--', color='k')\n",
    "plt.xlim(0.05, 2.05)\n",
    "plt.ylim(0.05, 2.05)\n",
    "plt.xlabel('analytic', size=15)\n",
    "plt.ylabel('calculated', size=15)\n",
    "plt.grid(color='gainsboro', linestyle='--')\n",
    "plt.legend()\n",
    "plt.show()"
   ]
  },
  {
   "cell_type": "code",
   "execution_count": null,
   "metadata": {},
   "outputs": [],
   "source": []
  },
  {
   "cell_type": "code",
   "execution_count": null,
   "metadata": {},
   "outputs": [],
   "source": []
  },
  {
   "cell_type": "code",
   "execution_count": null,
   "metadata": {},
   "outputs": [],
   "source": []
  },
  {
   "cell_type": "code",
   "execution_count": 484,
   "metadata": {},
   "outputs": [
    {
     "data": {
      "text/plain": [
       "8.352095376157905"
      ]
     },
     "execution_count": 484,
     "metadata": {},
     "output_type": "execute_result"
    }
   ],
   "source": [
    "np.log2(N)+np.log2(k_std/(k_avg*k_avg))\n",
    "# sum(np.log2(np.array(list(nx.average_neighbor_degree(G, source='in', target='out').values()))/k_avg/k_avg))\n",
    "\n",
    "# /np.log2(N)"
   ]
  },
  {
   "cell_type": "code",
   "execution_count": null,
   "metadata": {},
   "outputs": [],
   "source": []
  },
  {
   "cell_type": "code",
   "execution_count": 438,
   "metadata": {},
   "outputs": [
    {
     "data": {
      "text/plain": [
       "3992.0"
      ]
     },
     "execution_count": 438,
     "metadata": {},
     "output_type": "execute_result"
    }
   ],
   "source": [
    "N*k_avg"
   ]
  },
  {
   "cell_type": "code",
   "execution_count": 492,
   "metadata": {},
   "outputs": [
    {
     "name": "stdout",
     "output_type": "stream",
     "text": [
      "8.358196268933774 0.843351674278173\n",
      "8.358196268933781 0.9750779814273489\n"
     ]
    }
   ],
   "source": [
    "k_iin = np.array(list(dict(G.in_degree()).values()))\n",
    "k_jin = 1/np.array(list(nx.average_neighbor_degree(G, source='in', target='out').values()))\n",
    "W_ins = k_iin*k_jin\n",
    "wins = np.nan_to_num(W_ins)/np.sum(np.nan_to_num(W_ins))\n",
    "print(get_determinism_analytic(G,p0), np.log2(N) - sp.stats.entropy(wins, base=2))\n",
    "print(get_determinism(G, p0),get_degeneracy(G, p0))"
   ]
  },
  {
   "cell_type": "code",
   "execution_count": 390,
   "metadata": {},
   "outputs": [
    {
     "name": "stdout",
     "output_type": "stream",
     "text": [
      "Det1 = 8.9457, Deg1 = -1.5676, EI_11 = 7.3781\n",
      "Det2 = 8.9497, Deg1 = -1.5676, EI_21 = 7.3821\n"
     ]
    },
    {
     "ename": "TypeError",
     "evalue": "only size-1 arrays can be converted to Python scalars",
     "output_type": "error",
     "traceback": [
      "\u001b[0;31m---------------------------------------------------------------------------\u001b[0m",
      "\u001b[0;31mTypeError\u001b[0m                                 Traceback (most recent call last)",
      "\u001b[0;32m<ipython-input-390-da093b24bce6>\u001b[0m in \u001b[0;36m<module>\u001b[0;34m()\u001b[0m\n\u001b[1;32m      6\u001b[0m \u001b[0mprint\u001b[0m\u001b[0;34m(\u001b[0m\u001b[0;34m\"Det1 = %.4f, Deg1 = %.4f, EI_11 = %.4f\"\u001b[0m \u001b[0;34m%\u001b[0m \u001b[0;34m(\u001b[0m\u001b[0mdet1\u001b[0m\u001b[0;34m,\u001b[0m \u001b[0mdeg1\u001b[0m\u001b[0;34m,\u001b[0m \u001b[0mdet1\u001b[0m\u001b[0;34m+\u001b[0m\u001b[0mdeg1\u001b[0m\u001b[0;34m)\u001b[0m\u001b[0;34m)\u001b[0m\u001b[0;34m\u001b[0m\u001b[0m\n\u001b[1;32m      7\u001b[0m \u001b[0mprint\u001b[0m\u001b[0;34m(\u001b[0m\u001b[0;34m\"Det2 = %.4f, Deg1 = %.4f, EI_21 = %.4f\"\u001b[0m \u001b[0;34m%\u001b[0m \u001b[0;34m(\u001b[0m\u001b[0mdet2\u001b[0m\u001b[0;34m,\u001b[0m \u001b[0mdeg1\u001b[0m\u001b[0;34m,\u001b[0m \u001b[0mdet2\u001b[0m\u001b[0;34m+\u001b[0m\u001b[0mdeg1\u001b[0m\u001b[0;34m)\u001b[0m\u001b[0;34m)\u001b[0m\u001b[0;34m\u001b[0m\u001b[0m\n\u001b[0;32m----> 8\u001b[0;31m \u001b[0mprint\u001b[0m\u001b[0;34m(\u001b[0m\u001b[0;34m\"Det1 = %.4f, Deg2 = %.4f, EI_12 = %.4f\"\u001b[0m \u001b[0;34m%\u001b[0m \u001b[0;34m(\u001b[0m\u001b[0mdet1\u001b[0m\u001b[0;34m,\u001b[0m \u001b[0mdeg2\u001b[0m\u001b[0;34m,\u001b[0m \u001b[0mdet1\u001b[0m\u001b[0;34m-\u001b[0m\u001b[0mdeg2\u001b[0m\u001b[0;34m)\u001b[0m\u001b[0;34m)\u001b[0m\u001b[0;34m\u001b[0m\u001b[0m\n\u001b[0m\u001b[1;32m      9\u001b[0m \u001b[0mprint\u001b[0m\u001b[0;34m(\u001b[0m\u001b[0;34m\"DetE = %.4f, DegE = %.4f, EI_ei = %.4f\"\u001b[0m \u001b[0;34m%\u001b[0m \u001b[0;34m(\u001b[0m\u001b[0mget_determinism\u001b[0m\u001b[0;34m(\u001b[0m\u001b[0mG\u001b[0m\u001b[0;34m,\u001b[0m \u001b[0mp0\u001b[0m\u001b[0;34m)\u001b[0m\u001b[0;34m,\u001b[0m \u001b[0mget_degeneracy\u001b[0m\u001b[0;34m(\u001b[0m\u001b[0mG\u001b[0m\u001b[0;34m,\u001b[0m \u001b[0mp0\u001b[0m\u001b[0;34m)\u001b[0m\u001b[0;34m,\u001b[0m \u001b[0mget_ei\u001b[0m\u001b[0;34m(\u001b[0m\u001b[0mG\u001b[0m\u001b[0;34m,\u001b[0m \u001b[0mp0\u001b[0m\u001b[0;34m)\u001b[0m\u001b[0;34m)\u001b[0m\u001b[0;34m)\u001b[0m\u001b[0;34m\u001b[0m\u001b[0m\n",
      "\u001b[0;31mTypeError\u001b[0m: only size-1 arrays can be converted to Python scalars"
     ]
    }
   ],
   "source": [
    "p0=0\n",
    "det1 = np.log2(N/k_avg)\n",
    "det2 = np.mean([np.log2(N/i) for i in list(dict(G.out_degree()).values()) if i>0]) ############\n",
    "deg1 = np.log2(k_std/(k_avg**2))\n",
    "deg2 = np.log2(k_jin/k_avg)\n",
    "print(\"Det1 = %.4f, Deg1 = %.4f, EI_11 = %.4f\" % (det1, deg1, det1+deg1))\n",
    "print(\"Det2 = %.4f, Deg1 = %.4f, EI_21 = %.4f\" % (det2, deg1, det2+deg1))\n",
    "print(\"Det1 = %.4f, Deg2 = %.4f, EI_12 = %.4f\" % (det1, deg2, det1-deg2))\n",
    "print(\"DetE = %.4f, DegE = %.4f, EI_ei = %.4f\" % (get_determinism(G, p0), get_degeneracy(G, p0), get_ei(G, p0)))"
   ]
  },
  {
   "cell_type": "code",
   "execution_count": null,
   "metadata": {},
   "outputs": [],
   "source": []
  },
  {
   "cell_type": "code",
   "execution_count": null,
   "metadata": {},
   "outputs": [],
   "source": []
  },
  {
   "cell_type": "code",
   "execution_count": null,
   "metadata": {},
   "outputs": [],
   "source": []
  },
  {
   "cell_type": "code",
   "execution_count": 603,
   "metadata": {},
   "outputs": [
    {
     "name": "stdout",
     "output_type": "stream",
     "text": [
      "49.6 ms ± 1.47 ms per loop (mean ± std. dev. of 7 runs, 10 loops each)\n"
     ]
    }
   ],
   "source": [
    "%%timeit \n",
    "get_degeneracy(G, p0)"
   ]
  },
  {
   "cell_type": "code",
   "execution_count": 604,
   "metadata": {},
   "outputs": [
    {
     "name": "stdout",
     "output_type": "stream",
     "text": [
      "64.8 ms ± 1.69 ms per loop (mean ± std. dev. of 7 runs, 10 loops each)\n"
     ]
    }
   ],
   "source": [
    "%%timeit \n",
    "get_determinism(G, p0)"
   ]
  },
  {
   "cell_type": "code",
   "execution_count": 605,
   "metadata": {},
   "outputs": [
    {
     "name": "stdout",
     "output_type": "stream",
     "text": [
      "21.5 ms ± 500 µs per loop (mean ± std. dev. of 7 runs, 10 loops each)\n"
     ]
    }
   ],
   "source": [
    "%%timeit \n",
    "get_determinism_analytic(G, p0=0)"
   ]
  },
  {
   "cell_type": "code",
   "execution_count": 606,
   "metadata": {},
   "outputs": [
    {
     "data": {
      "text/plain": [
       "6.252739448322958"
      ]
     },
     "execution_count": 606,
     "metadata": {},
     "output_type": "execute_result"
    }
   ],
   "source": [
    "get_determinism_analytic(G, p0=0)"
   ]
  },
  {
   "cell_type": "code",
   "execution_count": 607,
   "metadata": {},
   "outputs": [
    {
     "data": {
      "text/plain": [
       "6.252739448322976"
      ]
     },
     "execution_count": 607,
     "metadata": {},
     "output_type": "execute_result"
    }
   ],
   "source": [
    "get_determinism(G,p0=0)"
   ]
  },
  {
   "cell_type": "code",
   "execution_count": null,
   "metadata": {},
   "outputs": [],
   "source": []
  },
  {
   "cell_type": "code",
   "execution_count": null,
   "metadata": {},
   "outputs": [],
   "source": []
  },
  {
   "cell_type": "code",
   "execution_count": null,
   "metadata": {},
   "outputs": [],
   "source": []
  },
  {
   "cell_type": "code",
   "execution_count": null,
   "metadata": {},
   "outputs": [],
   "source": []
  },
  {
   "cell_type": "code",
   "execution_count": 13,
   "metadata": {},
   "outputs": [
    {
     "data": {
      "text/plain": [
       "5.190562204617145"
      ]
     },
     "execution_count": 13,
     "metadata": {},
     "output_type": "execute_result"
    }
   ],
   "source": [
    "np.std(list(dict(nx.degree(G)).values()))"
   ]
  },
  {
   "cell_type": "code",
   "execution_count": 14,
   "metadata": {
    "scrolled": true
   },
   "outputs": [
    {
     "data": {
      "text/plain": [
       "3.992"
      ]
     },
     "execution_count": 14,
     "metadata": {},
     "output_type": "execute_result"
    }
   ],
   "source": [
    "np.mean(list(dict(nx.degree(G)).values()))"
   ]
  },
  {
   "cell_type": "code",
   "execution_count": null,
   "metadata": {},
   "outputs": [],
   "source": [
    "np.log2()"
   ]
  }
 ],
 "metadata": {
  "kernelspec": {
   "display_name": "Python 3",
   "language": "python",
   "name": "python3"
  },
  "language_info": {
   "codemirror_mode": {
    "name": "ipython",
    "version": 3
   },
   "file_extension": ".py",
   "mimetype": "text/x-python",
   "name": "python",
   "nbconvert_exporter": "python",
   "pygments_lexer": "ipython3",
   "version": "3.7.0"
  }
 },
 "nbformat": 4,
 "nbformat_minor": 2
}
